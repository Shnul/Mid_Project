{
 "cells": [
  {
   "cell_type": "code",
   "execution_count": 13,
   "id": "f4d40658-4084-410c-8a99-c914cfa9e802",
   "metadata": {},
   "outputs": [
    {
     "ename": "ModuleNotFoundError",
     "evalue": "No module named 'Flask'",
     "output_type": "error",
     "traceback": [
      "\u001b[1;31m---------------------------------------------------------------------------\u001b[0m",
      "\u001b[1;31mModuleNotFoundError\u001b[0m                       Traceback (most recent call last)",
      "Cell \u001b[1;32mIn[13], line 1\u001b[0m\n\u001b[1;32m----> 1\u001b[0m \u001b[38;5;28;01mimport\u001b[39;00m \u001b[38;5;21;01mFlask\u001b[39;00m\u001b[38;5;241m,\u001b[39m \u001b[38;5;21;01mjsonify\u001b[39;00m\u001b[38;5;241m,\u001b[39m \u001b[38;5;21;01mrequest\u001b[39;00m\n\u001b[0;32m      2\u001b[0m \u001b[38;5;28;01mimport\u001b[39;00m \u001b[38;5;21;01mpandas\u001b[39;00m \u001b[38;5;28;01mas\u001b[39;00m \u001b[38;5;21;01mpd\u001b[39;00m\n\u001b[0;32m      4\u001b[0m app \u001b[38;5;241m=\u001b[39m Flask(\u001b[38;5;18m__name__\u001b[39m)\n",
      "\u001b[1;31mModuleNotFoundError\u001b[0m: No module named 'Flask'"
     ]
    }
   ],
   "source": [
    "import Flask, jsonify, request\n",
    "import pandas as pd\n",
    "\n",
    "app = Flask(__name__)\n",
    "\n",
    "# Load your cleaned and sorted data into a DataFrame\n",
    "df = pd.read_csv('path_to_your_cleaned_and_sorted_data.csv')\n",
    "\n",
    "@app.route('/pokemon', methods=['GET'])\n",
    "def get_pokemon():\n",
    "    name = request.args.get('name', None)\n",
    "    if name:\n",
    "        # Filter the DataFrame for Pokémon matching the 'name' query parameter\n",
    "        filtered_df = df[df['Name'].str.contains(name, case=False, na=False)]\n",
    "        # Convert the filtered DataFrame to a dictionary and return it as JSON\n",
    "        return jsonify(filtered_df.to_dict(orient='records'))\n",
    "    else:\n",
    "        # If no name is provided, return an error message\n",
    "        return jsonify({\"error\": \"Please specify a Pokémon name\"}), 400\n",
    "\n",
    "if __name__ == '__main__':\n",
    "    app.run(debug=True)\n"
   ]
  },
  {
   "cell_type": "code",
   "execution_count": null,
   "id": "5ee44425-2ae0-4047-9e4c-f85db1a4f716",
   "metadata": {},
   "outputs": [],
   "source": []
  }
 ],
 "metadata": {
  "kernelspec": {
   "display_name": "Python (myenv)",
   "language": "python",
   "name": "myenv"
  },
  "language_info": {
   "codemirror_mode": {
    "name": "ipython",
    "version": 3
   },
   "file_extension": ".py",
   "mimetype": "text/x-python",
   "name": "python",
   "nbconvert_exporter": "python",
   "pygments_lexer": "ipython3",
   "version": "3.12.2"
  }
 },
 "nbformat": 4,
 "nbformat_minor": 5
}
