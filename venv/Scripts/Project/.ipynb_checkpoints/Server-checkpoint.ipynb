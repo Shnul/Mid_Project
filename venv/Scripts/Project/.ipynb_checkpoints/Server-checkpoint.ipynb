{
 "cells": [
  {
   "cell_type": "code",
   "execution_count": 3,
   "id": "a65a61bd-bed1-4dd9-a781-73ca32dd8c51",
   "metadata": {},
   "outputs": [
    {
     "name": "stdout",
     "output_type": "stream",
     "text": [
      "Failed to load and process the Pokemon CSV: [Errno 2] No such file or directory: 'Project/pokemons/Pokemon.csv'\n"
     ]
    }
   ],
   "source": [
    "from flask import Flask, jsonify, request\n",
    "import pandas as pd\n",
    "\n",
    "app = Flask(__name__)\n",
    "pokemon_objects = []\n",
    "\n",
    "class Pokemon:\n",
    "    def __init__(self, id, name, type1, type2, total, hp, attack, defense, sp_atk, sp_def, speed, generation, legendary):\n",
    "        self.id = id\n",
    "        self.name = name\n",
    "        self.type1 = type1\n",
    "        self.type2 = type2 or 'None'\n",
    "        self.total = total\n",
    "        self.hp = hp\n",
    "        self.attack = attack\n",
    "        self.defense = defense\n",
    "        self.sp_atk = sp_atk\n",
    "        self.sp_def = sp_def\n",
    "        self.speed = speed\n",
    "        self.generation = generation\n",
    "        self.legendary = legendary\n",
    "\n",
    "    def to_dict(self):\n",
    "        return vars(self)\n",
    "\n",
    "@app.route('/get_pokemon', methods=['GET'])\n",
    "def get_pokemon():\n",
    "    pokemon_name = request.args.get('name', default=\"\", type=str).lower()\n",
    "    for pokemon in pokemon_objects:\n",
    "        if pokemon.name.lower() == pokemon_name:\n",
    "            return jsonify(pokemon.to_dict())\n",
    "    return jsonify({'error': 'Pokémon not found'}), 404\n",
    "\n",
    "if __name__ == \"__main__\":\n",
    "    try:\n",
    "        path = r'Project/pokemons/Pokemon.csv'\n",
    "        pokemon_df = pd.read_csv(path)\n",
    "\n",
    "        pokemon_df.drop_duplicates(inplace=True)\n",
    "        pokemon_df.sort_values(by='#', ascending=True, inplace=True)\n",
    "        pokemon_df['Type 2'] = pokemon_df['Type 2'].fillna('None')\n",
    "        pokemon_df['Legendary'] = pokemon_df['Legendary'].fillna(False)\n",
    "        pokemon_df['Legendary'] = pokemon_df['Legendary'].astype(bool)\n",
    "\n",
    "        for _, row in pokemon_df.iterrows():\n",
    "            pokemon_objects.append(Pokemon(\n",
    "                id=row['#'],\n",
    "                name=row['Name'],\n",
    "                type1=row['Type 1'],\n",
    "                type2=row['Type 2'],\n",
    "                total=row['Total'],\n",
    "                hp=row['HP'],\n",
    "                attack=row['Attack'],\n",
    "                defense=row['Defense'],\n",
    "                sp_atk=row['Sp. Atk'],\n",
    "                sp_def=row['Sp. Def'],\n",
    "                speed=row['Speed'],\n",
    "                generation=row['Generation'],\n",
    "                legendary=row['Legendary']\n",
    "            ))\n",
    "\n",
    "        app.run(debug=True)\n",
    "    except Exception as e:\n",
    "        print(f\"Failed to load and process the Pokemon CSV: {e}\")\n"
   ]
  },
  {
   "cell_type": "code",
   "execution_count": null,
   "id": "02762635-cd67-4501-ac83-6efe677ab694",
   "metadata": {},
   "outputs": [],
   "source": []
  }
 ],
 "metadata": {
  "kernelspec": {
   "display_name": "Python 3 (ipykernel)",
   "language": "python",
   "name": "python3"
  },
  "language_info": {
   "codemirror_mode": {
    "name": "ipython",
    "version": 3
   },
   "file_extension": ".py",
   "mimetype": "text/x-python",
   "name": "python",
   "nbconvert_exporter": "python",
   "pygments_lexer": "ipython3",
   "version": "3.12.2"
  }
 },
 "nbformat": 4,
 "nbformat_minor": 5
}
