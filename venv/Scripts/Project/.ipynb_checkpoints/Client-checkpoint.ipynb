{
 "cells": [
  {
   "cell_type": "code",
   "execution_count": 2,
   "id": "2a7acfe7-16e7-4ca1-b716-379d771647e3",
   "metadata": {},
   "outputs": [
    {
     "ename": "ModuleNotFoundError",
     "evalue": "No module named 'prettytable'",
     "output_type": "error",
     "traceback": [
      "\u001b[1;31m---------------------------------------------------------------------------\u001b[0m",
      "\u001b[1;31mModuleNotFoundError\u001b[0m                       Traceback (most recent call last)",
      "Cell \u001b[1;32mIn[2], line 2\u001b[0m\n\u001b[0;32m      1\u001b[0m \u001b[38;5;28;01mimport\u001b[39;00m \u001b[38;5;21;01mrequests\u001b[39;00m\n\u001b[1;32m----> 2\u001b[0m \u001b[38;5;28;01mfrom\u001b[39;00m \u001b[38;5;21;01mprettytable\u001b[39;00m \u001b[38;5;28;01mimport\u001b[39;00m PrettyTable\n\u001b[0;32m      4\u001b[0m \u001b[38;5;28;01mdef\u001b[39;00m \u001b[38;5;21mget_pokemon_info\u001b[39m(names):\n\u001b[0;32m      5\u001b[0m     server_url \u001b[38;5;241m=\u001b[39m \u001b[38;5;124m\"\u001b[39m\u001b[38;5;124mhttp://localhost:5000/get_pokemon\u001b[39m\u001b[38;5;124m\"\u001b[39m\n",
      "\u001b[1;31mModuleNotFoundError\u001b[0m: No module named 'prettytable'"
     ]
    }
   ],
   "source": [
    "import requests\n",
    "from prettytable import PrettyTable\n",
    "\n",
    "def get_pokemon_info(names):\n",
    "    server_url = \"http://localhost:5000/get_pokemon\"\n",
    "    pokemon_data = {}\n",
    "    for name in names:\n",
    "        params = {'name': name}\n",
    "        try:\n",
    "            response = requests.get(server_url, params=params)\n",
    "            if response.status_code == 200:\n",
    "                pokemon_data[name] = response.json()\n",
    "            else:\n",
    "                print(f\"Error: Unable to find Pokémon named '{name}'. Server responded with status code {response.status_code}.\")\n",
    "        except requests.exceptions.RequestException as e:\n",
    "            print(f\"An error occurred while trying to connect to the server: {e}\")\n",
    "    return pokemon_data\n",
    "\n",
    "def display_pokemon_data(pokemon_data):\n",
    "    if pokemon_data:\n",
    "        table = PrettyTable()\n",
    "        desired_order = ['Type1', 'Type2', 'Generation', 'Legendary', 'Total', 'Hp', 'Attack', 'Defense', 'Sp_Atk', 'Sp_Def', 'Speed']\n",
    "        field_names = [\"Attribute\"] + [name.capitalize() for name in pokemon_data.keys()]\n",
    "        table.field_names = field_names\n",
    "\n",
    "        for attribute in desired_order:\n",
    "            row = [attribute]\n",
    "            for name, attributes in pokemon_data.items():\n",
    "                attribute_value = attributes.get(attribute.lower(), 'N/A')\n",
    "                row.append(attribute_value)\n",
    "            table.add_row(row)\n",
    "\n",
    "        print(\"\\nPokémon Details:\")\n",
    "        print(table)\n",
    "    else:\n",
    "        print(\"No data to display.\")\n"
   ]
  },
  {
   "cell_type": "code",
   "execution_count": 1,
   "id": "72fdb282-a1eb-46c5-bdd4-17a381eb5f5f",
   "metadata": {},
   "outputs": [
    {
     "ename": "NameError",
     "evalue": "name 'get_pokemon_info' is not defined",
     "output_type": "error",
     "traceback": [
      "\u001b[1;31m---------------------------------------------------------------------------\u001b[0m",
      "\u001b[1;31mNameError\u001b[0m                                 Traceback (most recent call last)",
      "Cell \u001b[1;32mIn[1], line 3\u001b[0m\n\u001b[0;32m      1\u001b[0m \u001b[38;5;66;03m# Example: Fetching details for Pikachu and Charmander\u001b[39;00m\n\u001b[0;32m      2\u001b[0m pokemon_names \u001b[38;5;241m=\u001b[39m [\u001b[38;5;124m'\u001b[39m\u001b[38;5;124mpikachu\u001b[39m\u001b[38;5;124m'\u001b[39m, \u001b[38;5;124m'\u001b[39m\u001b[38;5;124mcharmander\u001b[39m\u001b[38;5;124m'\u001b[39m]\n\u001b[1;32m----> 3\u001b[0m pokemon_data \u001b[38;5;241m=\u001b[39m \u001b[43mget_pokemon_info\u001b[49m(pokemon_names)\n\u001b[0;32m      4\u001b[0m display_pokemon_data(pokemon_data)\n",
      "\u001b[1;31mNameError\u001b[0m: name 'get_pokemon_info' is not defined"
     ]
    }
   ],
   "source": [
    "# Example: Fetching details for Pikachu and Charmander\n",
    "pokemon_names = ['pikachu', 'charmander']\n",
    "pokemon_data = get_pokemon_info(pokemon_names)\n",
    "display_pokemon_data(pokemon_data)"
   ]
  }
 ],
 "metadata": {
  "kernelspec": {
   "display_name": "Python (myenv)",
   "language": "python",
   "name": "myenv"
  },
  "language_info": {
   "codemirror_mode": {
    "name": "ipython",
    "version": 3
   },
   "file_extension": ".py",
   "mimetype": "text/x-python",
   "name": "python",
   "nbconvert_exporter": "python",
   "pygments_lexer": "ipython3",
   "version": "3.12.2"
  }
 },
 "nbformat": 4,
 "nbformat_minor": 5
}
